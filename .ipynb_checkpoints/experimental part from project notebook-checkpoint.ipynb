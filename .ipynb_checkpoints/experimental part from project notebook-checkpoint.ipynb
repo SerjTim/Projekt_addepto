{
 "cells": [
  {
   "cell_type": "code",
   "execution_count": null,
   "metadata": {},
   "outputs": [],
   "source": [
    "#--------------------------------------------------------------------------------------\n",
    "\n",
    "# This part is experimental and should not be commited to Master\n",
    "\n",
    "good_features = good_features[good_features['price'] < 1000000]\n",
    "\n",
    "from sklearn.cluster import KMeans\n",
    "\n",
    "kmeans = KMeans(n_clusters=20)\n",
    "\n",
    "kmeans.fit(X_train[['lat','long']])\n",
    "\n",
    "y_kmeans = kmeans.predict(X_train[['lat','long']])\n",
    "\n",
    "clusterframe = pd.DataFrame(X_train[['lat','long']])\n",
    "clusterframe['cluster'] = y_kmeans\n",
    "clusterframe['price'] = y_train\n",
    "clusterframe.groupby(by = 'cluster').mean()\n",
    "\n",
    "plt.figure(figsize = (12,8))\n",
    "sc = plt.scatter(clusterframe['lat'], clusterframe['long'], c=clusterframe['price'],\n",
    "            s=10, cmap='viridis', );\n",
    "plt.colorbar(sc)\n",
    "\n",
    "plt.figure(figsize = (12,8))\n",
    "plt.scatter(clusterframe['lat'], clusterframe['long'], c=clusterframe['cluster'],\n",
    "            s=10, cmap='viridis', );\n",
    "\n",
    "X_train['neighbor'] = kmeans.predict(X_train[['lat','long']])\n",
    "X_test['neighbor'] = kmeans.predict(X_test[['lat','long']])\n",
    "\n",
    "random_search.fit(X_train, y_train)\n",
    "\n",
    "print('\\n Best estimator:')\n",
    "print(random_search.best_estimator_)\n",
    "print('\\n Best score:')\n",
    "print(random_search.best_score_ )\n",
    "print('\\n Best parameters:')\n",
    "print(random_search.best_params_)\n",
    "\n",
    "xgb_reg3 = xgb.XGBRegressor(objective ='reg:squarederror',\n",
    "                            gamma=random_search.best_params_['gamma'], learning_rate = random_search.best_params_['learning_rate'],\n",
    "                            max_depth = random_search.best_params_['max_depth'],subsample = random_search.best_params_['subsample'], \n",
    "                            n_estimators = 200)\n",
    "\n",
    "xgb_reg3.fit(X_train, y_train)\n",
    "\n",
    "predictions_refit = xgb_reg3.predict(X_test)\n",
    "preds_best = random_search.best_estimator_.predict(X_test)\n",
    "\n",
    "print ('RMSE ', np.sqrt(metrics.mean_squared_error(predictions_refit, y_test)))\n",
    "print ('Refited Explained variance', metrics.explained_variance_score(predictions_refit, y_test))\n",
    "\n",
    "# ---------------------------------------------------------------------------\n",
    "# End of experimental part"
   ]
  }
 ],
 "metadata": {
  "kernelspec": {
   "display_name": "Python [conda env:reports_stuff] *",
   "language": "python",
   "name": "conda-env-reports_stuff-py"
  },
  "language_info": {
   "codemirror_mode": {
    "name": "ipython",
    "version": 3
   },
   "file_extension": ".py",
   "mimetype": "text/x-python",
   "name": "python",
   "nbconvert_exporter": "python",
   "pygments_lexer": "ipython3",
   "version": "3.6.8"
  }
 },
 "nbformat": 4,
 "nbformat_minor": 2
}
